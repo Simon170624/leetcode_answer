{
 "cells": [
  {
   "cell_type": "code",
   "execution_count": null,
   "metadata": {},
   "outputs": [],
   "source": [
    "# 771. Jewels and Stones\n",
    "class Solution:\n",
    "    def numJewelsInStones(self, jewels: str, stones: str) -> int:\n",
    "        result = 0\n",
    "        for ch in jewels:\n",
    "            result += stones.count(ch)\n",
    "        return result"
   ]
  },
  {
   "cell_type": "code",
   "execution_count": null,
   "metadata": {},
   "outputs": [],
   "source": [
    "# 1528. Shuffle String\n",
    "class Solution:\n",
    "    def restoreString(self, s: str, indices: List[int]) -> str:\n",
    "        result = [' ' for _ in range(len(s))]\n",
    "        for i in range(len(s)):\n",
    "            result[indices[i]] = s[i]\n",
    "        return ''.join(result)"
   ]
  },
  {
   "cell_type": "code",
   "execution_count": null,
   "metadata": {},
   "outputs": [],
   "source": [
    "# 1678. Goal Parser Interpretation\n",
    "class Solution:\n",
    "    def interpret(self, command: str) -> str:\n",
    "        command = command.replace(\"()\", \"o\")\n",
    "        command = command.replace(\"(al)\", \"al\")\n",
    "        return command"
   ]
  },
  {
   "cell_type": "code",
   "execution_count": null,
   "metadata": {},
   "outputs": [],
   "source": [
    "# 2194. Cells in a Range on an Excel Sheet\n",
    "class Solution:\n",
    "    def cellsInRange(self, s: str) -> List[str]:\n",
    "        startCol, endCol = s[0], s[3]\n",
    "        startRow, endRow = int(s[1]), int(s[4])\n",
    "        ans = []\n",
    "        for i in range(ord(startCol), ord(endCol) + 1):\n",
    "\t        for j in range(startRow, endRow+1):\n",
    "\t\t        ans.append(chr(i) + str(j))\n",
    "        return ans"
   ]
  },
  {
   "cell_type": "code",
   "execution_count": null,
   "metadata": {},
   "outputs": [],
   "source": [
    "# 1221. Split a String in Balanced Strings\n",
    "# string and two pointers\n",
    "class Solution:\n",
    "    def balancedStringSplit(self, s: str) -> int:\n",
    "        res = 0\n",
    "        \n",
    "        if s is None:\n",
    "            return res\n",
    "        \n",
    "        left, right = 0, 1\n",
    "        cnt_R = 0\n",
    "        cnt_L = 0\n",
    "        \n",
    "        while right < len(s):\n",
    "            if s[left] == 'R' and cnt_R == 0:\n",
    "                cnt_R += 1\n",
    "            if s[left] == 'L' and cnt_L == 0:\n",
    "                cnt_L += 1\n",
    "            \n",
    "            if s[right] == 'R':\n",
    "                cnt_R += 1\n",
    "            else:\n",
    "                cnt_L += 1\n",
    "            \n",
    "            if cnt_R == cnt_L:\n",
    "                res += 1\n",
    "                left = right + 1\n",
    "                right = left + 1\n",
    "                cnt_R = 0\n",
    "                cnt_L = 0\n",
    "                \n",
    "            else:\n",
    "                right += 1\n",
    "            \n",
    "        return res"
   ]
  },
  {
   "cell_type": "code",
   "execution_count": null,
   "metadata": {},
   "outputs": [],
   "source": [
    "# 344. Reverse String\n",
    "class Solution:\n",
    "    def reverseString(self, s: List[str]) -> None:\n",
    "        \"\"\"\n",
    "        Do not return anything, modify s in-place instead.\n",
    "        \"\"\"\n",
    "        s[::-1] = s"
   ]
  },
  {
   "cell_type": "code",
   "execution_count": null,
   "metadata": {},
   "outputs": [],
   "source": [
    "# 412. Fizz Buzz\n",
    "class Solution:\n",
    "    def fizzBuzz(self, n: int) -> List[str]:\n",
    "        result = []\n",
    "        for i in range(1, n + 1, +1):\n",
    "            if (i % 3 == 0 and i % 5 == 0):\n",
    "                result.append(\"FizzBuzz\")\n",
    "            elif(i % 3 == 0):\n",
    "                result.append(\"Fizz\")\n",
    "            elif(i % 5 == 0):\n",
    "                result.append(\"Buzz\")\n",
    "            else:\n",
    "                result.append(str(i))\n",
    "        return result"
   ]
  },
  {
   "cell_type": "code",
   "execution_count": null,
   "metadata": {},
   "outputs": [],
   "source": [
    "# 2011. Final Value of Variable After Performing Operations\n",
    "class Solution:\n",
    "    def finalValueAfterOperations(self, operations: List[str]) -> int:\n",
    "        result = 0\n",
    "        for i in range(len(operations)):\n",
    "            if '-' in operations[i]:\n",
    "                result -= 1\n",
    "            elif '+' in operations[i]:\n",
    "                result += 1\n",
    "        \n",
    "        return result"
   ]
  },
  {
   "cell_type": "code",
   "execution_count": null,
   "metadata": {},
   "outputs": [],
   "source": [
    "# 2114. Maximum Number of Words Found in Sentences\n",
    "class Solution:\n",
    "    def mostWordsFound(self, sentences: List[str]) -> int:\n",
    "        max_number = 0\n",
    "        for i in range(len(sentences)):\n",
    "            max_number = max(len(sentences[i].split(' ')), max_number)\n",
    "        \n",
    "        return max_number"
   ]
  },
  {
   "cell_type": "code",
   "execution_count": null,
   "metadata": {},
   "outputs": [],
   "source": [
    "# 1108. Defanging an IP Address\n",
    "class Solution:\n",
    "    def defangIPaddr(self, address: str) -> str:\n",
    "        return '[.]'.join(address.split('.'))"
   ]
  },
  {
   "cell_type": "code",
   "execution_count": null,
   "metadata": {},
   "outputs": [],
   "source": [
    "# 242. Valid Anagram\n",
    "class Solution:\n",
    "    def isAnagram(self, s: str, t: str) -> bool:\n",
    "        s, t = Counter(s), Counter(t)\n",
    "        if s == t:\n",
    "            return True\n",
    "        return False"
   ]
  },
  {
   "cell_type": "code",
   "execution_count": null,
   "metadata": {},
   "outputs": [],
   "source": [
    "# 171. Excel Sheet Column Number\n",
    "class Solution:\n",
    "    def titleToNumber(self, columnTitle: str) -> int:\n",
    "        ans, pos = 0, 0\n",
    "        for letter in reversed(columnTitle):\n",
    "            digit = ord(letter)-64\n",
    "            ans += digit * 26**pos\n",
    "            pos += 1\n",
    "            \n",
    "        return ans  "
   ]
  },
  {
   "cell_type": "code",
   "execution_count": null,
   "metadata": {},
   "outputs": [],
   "source": [
    "# 257. Binary Tree Paths\n",
    "class Solution:\n",
    "    def binaryTreePaths(self, root: Optional[TreeNode]) -> List[str]:\n",
    "        self.res = []\n",
    "        curr = ''\n",
    "        self.helper(root, curr)\n",
    "        return self.res\n",
    "    \n",
    "    def helper(self, root, s):\n",
    "        if not root:\n",
    "            return None\n",
    "        \n",
    "        if not root.left and not root.right:\n",
    "            if len(s) == 0:\n",
    "                s += str(root.val)\n",
    "            else:\n",
    "                s += ',' + str(root.val)\n",
    "                s = s.replace(',', '->')\n",
    "            self.res.append(s)\n",
    "        \n",
    "        if len(s) == 0:\n",
    "            s += str(root.val)\n",
    "        else:\n",
    "            s += ',' + str(root.val)\n",
    "        \n",
    "        self.helper(root.left, s)\n",
    "        self.helper(root.right, s)"
   ]
  },
  {
   "cell_type": "code",
   "execution_count": null,
   "metadata": {},
   "outputs": [],
   "source": [
    "# 13. Roman to Integer\n",
    "roman = {'I':1,'V':5,'X':10,'L':50,'C':100,'D':500,'M':1000}\n",
    "\n",
    "class Solution:\n",
    "    def romanToInt(self, S: str) -> int:\n",
    "        ans = 0\n",
    "        for i in range(len(S)-1,-1,-1):\n",
    "            num = roman[S[i]]\n",
    "            if 4 * num < ans: \n",
    "                ans -= num\n",
    "            else: \n",
    "                ans += num\n",
    "        return ans"
   ]
  },
  {
   "cell_type": "code",
   "execution_count": null,
   "metadata": {},
   "outputs": [],
   "source": [
    "# 606. Construct String from Binary Tree\n",
    "class Solution:\n",
    "    def tree2str(self, root):\n",
    "        return self.helper(root)\n",
    "    \n",
    "    def helper(self, root):\n",
    "        if not root:\n",
    "            return None\n",
    "        \n",
    "        l = ''\n",
    "        r = ''\n",
    "        \n",
    "        if root.left:\n",
    "            l = '(' + self.helper(root.left) + ')'\n",
    "            \n",
    "        if root.right:\n",
    "            if l == '':\n",
    "                r = '()'\n",
    "            r += '(' + self.helper(root.right) + ')'\n",
    "        \n",
    "        return str(root.val) + l + r"
   ]
  },
  {
   "cell_type": "code",
   "execution_count": null,
   "metadata": {},
   "outputs": [],
   "source": [
    "# 387. First Unique Character in a String\n",
    "class Solution:\n",
    "    def firstUniqChar(self, s: str) -> int:\n",
    "        c=Counter(s)\n",
    "        for i in range(len(s)):\n",
    "            if c[s[i]]==1:\n",
    "                return i\n",
    "        return -1  "
   ]
  },
  {
   "cell_type": "code",
   "execution_count": null,
   "metadata": {},
   "outputs": [],
   "source": [
    "# 125. Valid Palindrome\n",
    "class Solution:\n",
    "    def isPalindrome(self, a: str) -> bool:\n",
    "        a = a.lower()\n",
    "        a = list(a)\n",
    "        a = [i for i in a if i.isalnum() == True ]\n",
    "        if a == a[::-1]:\n",
    "            return True\n",
    "        else:\n",
    "            return False"
   ]
  },
  {
   "cell_type": "code",
   "execution_count": null,
   "metadata": {},
   "outputs": [],
   "source": [
    "# 20. Valid Parentheses\n",
    "class Solution:\n",
    "    def isValid(self, s: str) -> bool:\n",
    "        stack = []\n",
    "        dict = {\"]\":\"[\", \"}\":\"{\", \")\":\"(\"}\n",
    "        for char in s:\n",
    "            if char in dict.values():\n",
    "                stack.append(char)\n",
    "            elif char in dict.keys():\n",
    "                if stack == [] or dict[char] != stack.pop():\n",
    "                    return False\n",
    "            else:\n",
    "                return False\n",
    "        return stack == []"
   ]
  },
  {
   "cell_type": "code",
   "execution_count": null,
   "metadata": {},
   "outputs": [],
   "source": [
    "# 680. Valid Palindrome II\n",
    "class Solution:\n",
    "    def validPalindrome(self, s: str) -> bool:\n",
    "        left = 0\n",
    "        right = len(s) - 1 \n",
    "        while left <= right:\n",
    "            if s[left] == s[right]:\n",
    "                left += 1 \n",
    "                right -= 1 \n",
    "            else:\n",
    "                return self.helper(s, left, right - 1) or self.helper(s, left + 1, right)\n",
    "        \n",
    "        return True\n",
    "                \n",
    "                \n",
    "    def helper(self, s, left, right):\n",
    "        while left <= right:\n",
    "            if s[left] != s[right]:\n",
    "                return False \n",
    "        \n",
    "            left += 1 \n",
    "            right -= 1 \n",
    "        \n",
    "        return True"
   ]
  },
  {
   "cell_type": "code",
   "execution_count": null,
   "metadata": {},
   "outputs": [],
   "source": [
    "# 14. Longest Common Prefix\n",
    "class Solution:\n",
    "    def longestCommonPrefix(self, strs: List[str]) -> str:\n",
    "        if not strs:\n",
    "            return \"\"\n",
    "        shortest = min(strs,key=len)\n",
    "        for i, ch in enumerate(shortest):\n",
    "            for other in strs:\n",
    "                if other[i] != ch:\n",
    "                    return shortest[:i]\n",
    "        return shortest"
   ]
  },
  {
   "cell_type": "code",
   "execution_count": null,
   "metadata": {},
   "outputs": [],
   "source": [
    "# 28. Implement strStr()\n",
    "class Solution:\n",
    "    def strStr(self, haystack: str, needle: str) -> int:\n",
    "        for i in range(len(haystack) - len(needle)+1):\n",
    "            if haystack[i:i+len(needle)] == needle:\n",
    "                return i\n",
    "        return -1"
   ]
  },
  {
   "cell_type": "code",
   "execution_count": null,
   "metadata": {},
   "outputs": [],
   "source": [
    "# 3. Longest Substring Without Repeating Characters\n",
    "class Solution:\n",
    "    def lengthOfLongestSubstring(self, s):  \n",
    "        charSet = set()\n",
    "        l = 0\n",
    "        res = 0\n",
    "        \n",
    "        for r in range(len(s)):\n",
    "            while s[r] in charSet:\n",
    "                charSet.remove(s[l])\n",
    "                l += 1\n",
    "            charSet.add(s[r])\n",
    "            res = max(res, r-l+1)\n",
    "        \n",
    "        return res"
   ]
  }
 ],
 "metadata": {
  "interpreter": {
   "hash": "526547bc90c1d73209c254e49f21a2cbaee911ad49acf5720c507cfe979147d8"
  },
  "kernelspec": {
   "display_name": "Python 3.8.5 ('base')",
   "language": "python",
   "name": "python3"
  },
  "language_info": {
   "codemirror_mode": {
    "name": "ipython",
    "version": 3
   },
   "file_extension": ".py",
   "mimetype": "text/x-python",
   "name": "python",
   "nbconvert_exporter": "python",
   "pygments_lexer": "ipython3",
   "version": "3.8.5"
  },
  "orig_nbformat": 4
 },
 "nbformat": 4,
 "nbformat_minor": 2
}
