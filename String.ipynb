{
 "cells": [
  {
   "cell_type": "code",
   "execution_count": null,
   "metadata": {},
   "outputs": [],
   "source": [
    "# 771. Jewels and Stones\n",
    "class Solution:\n",
    "    def numJewelsInStones(self, jewels: str, stones: str) -> int:\n",
    "        result = 0\n",
    "        for ch in jewels:\n",
    "            result += stones.count(ch)\n",
    "        return result"
   ]
  },
  {
   "cell_type": "code",
   "execution_count": null,
   "metadata": {},
   "outputs": [],
   "source": [
    "# 1528. Shuffle String\n",
    "class Solution:\n",
    "    def restoreString(self, s: str, indices: List[int]) -> str:\n",
    "        result = [' ' for _ in range(len(s))]\n",
    "        for i in range(len(s)):\n",
    "            result[indices[i]] = s[i]\n",
    "        return ''.join(result)"
   ]
  },
  {
   "cell_type": "code",
   "execution_count": null,
   "metadata": {},
   "outputs": [],
   "source": [
    "# 1678. Goal Parser Interpretation\n",
    "class Solution:\n",
    "    def interpret(self, command: str) -> str:\n",
    "        command = command.replace(\"()\", \"o\")\n",
    "        command = command.replace(\"(al)\", \"al\")\n",
    "        return command"
   ]
  },
  {
   "cell_type": "code",
   "execution_count": null,
   "metadata": {},
   "outputs": [],
   "source": [
    "# 2194. Cells in a Range on an Excel Sheet\n",
    "class Solution:\n",
    "    def cellsInRange(self, s: str) -> List[str]:\n",
    "        startCol, endCol = s[0], s[3]\n",
    "        startRow, endRow = int(s[1]), int(s[4])\n",
    "        ans = []\n",
    "        for i in range(ord(startCol), ord(endCol) + 1):\n",
    "\t        for j in range(startRow, endRow+1):\n",
    "\t\t        ans.append(chr(i) + str(j))\n",
    "        return ans"
   ]
  }
 ],
 "metadata": {
  "language_info": {
   "name": "python"
  },
  "orig_nbformat": 4
 },
 "nbformat": 4,
 "nbformat_minor": 2
}
